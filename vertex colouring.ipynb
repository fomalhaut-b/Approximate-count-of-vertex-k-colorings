{
 "cells": [
  {
   "cell_type": "code",
   "execution_count": 32,
   "metadata": {},
   "outputs": [],
   "source": [
    "import networkx as nx\n",
    "import math\n",
    "import numpy as np\n",
    "import random"
   ]
  },
  {
   "cell_type": "code",
   "execution_count": 23,
   "metadata": {},
   "outputs": [
    {
     "data": {
      "text/plain": [
       "7"
      ]
     },
     "execution_count": 23,
     "metadata": {},
     "output_type": "execute_result"
    }
   ],
   "source": [
    "G = nx.erdos_renyi_graph(10, 0.5)\n",
    "max(dict(G.degree()).values())"
   ]
  },
  {
   "cell_type": "code",
   "execution_count": 55,
   "metadata": {},
   "outputs": [
    {
     "name": "stdout",
     "output_type": "stream",
     "text": [
      "[(0, 3), (0, 5), (1, 3), (1, 5), (2, 5), (3, 4), (4, 5)]\n",
      "1\n"
     ]
    }
   ],
   "source": [
    "G = nx.erdos_renyi_graph(6, 0.5)\n",
    "print(G.edges())\n",
    "print(nx.greedy_color(G)[2])"
   ]
  },
  {
   "cell_type": "code",
   "execution_count": 71,
   "metadata": {},
   "outputs": [
    {
     "data": {
      "text/plain": [
       "(1, 11)"
      ]
     },
     "execution_count": 71,
     "metadata": {},
     "output_type": "execute_result"
    }
   ],
   "source": [
    "random.sample(list(G.edges()),1)[0]"
   ]
  },
  {
   "cell_type": "code",
   "execution_count": 76,
   "metadata": {},
   "outputs": [],
   "source": [
    "def random_sample_colouring(G, k, T, coloring):  #k is number of colours, #T is the number of simulation steps\n",
    "    #D = max(dict(G.degree()).values())   #maxdegree of graph\n",
    "    n = G.number_of_nodes() #number of nodes\n",
    "    #T = math.ceil((()/())*n*math.log((4*n*m)/(eps)))   #number of steps\n",
    "    \n",
    "    for i in range(T):\n",
    "        v = random.randint(0, n-1)\n",
    "        c = random.randint(0, k-1)\n",
    "\n",
    "        is_proper = True\n",
    "\n",
    "        for u in G.neighbors(v): \n",
    "            if coloring[u] == c:\n",
    "                is_proper = False\n",
    "\n",
    "        if is_proper:\n",
    "            coloring[v] = c\n",
    "    \n",
    "    return coloring\n",
    "    \n",
    "\n"
   ]
  },
  {
   "cell_type": "code",
   "execution_count": 62,
   "metadata": {},
   "outputs": [
    {
     "name": "stdout",
     "output_type": "stream",
     "text": [
      "[(0, 1), (0, 2), (0, 5), (0, 7), (0, 10), (0, 12), (0, 14), (0, 17), (0, 18), (1, 2), (1, 5), (1, 6), (1, 8), (1, 9), (1, 11), (1, 15), (2, 3), (2, 6), (2, 9), (2, 11), (2, 12), (2, 14), (2, 15), (2, 17), (2, 18), (3, 6), (3, 8), (3, 10), (3, 13), (3, 14), (3, 15), (4, 5), (4, 6), (4, 7), (4, 9), (4, 10), (4, 11), (4, 15), (4, 16), (4, 17), (4, 19), (5, 7), (5, 8), (5, 9), (5, 18), (6, 8), (6, 10), (6, 12), (6, 14), (6, 15), (7, 8), (7, 10), (7, 11), (7, 12), (7, 13), (7, 15), (7, 16), (7, 18), (7, 19), (8, 9), (8, 10), (8, 11), (8, 12), (8, 13), (8, 15), (8, 17), (8, 18), (9, 10), (9, 11), (9, 13), (9, 14), (9, 15), (9, 17), (9, 18), (9, 19), (10, 11), (10, 12), (10, 14), (10, 19), (11, 12), (11, 13), (11, 14), (11, 15), (12, 13), (13, 14), (13, 16), (13, 17), (14, 15), (14, 16), (14, 17), (14, 18), (15, 16), (15, 17), (16, 17), (16, 18), (17, 19)]\n",
      "{8: 13, 9: 5, 7: 3, 14: 7, 15: 11, 2: 3, 10: 19, 11: 16, 4: 18, 17: 14, 0: 9, 6: 10, 13: 0, 1: 14, 12: 6, 18: 12, 3: 5, 5: 1, 16: 1, 19: 12}\n"
     ]
    }
   ],
   "source": [
    "G = nx.erdos_renyi_graph(20,0.5)\n",
    "print(G.edges())\n",
    "print(random_sample_colouring(G, 20 ,1000))"
   ]
  },
  {
   "cell_type": "code",
   "execution_count": 114,
   "metadata": {},
   "outputs": [],
   "source": [
    "def approx_count_coloring(G_p, k, eps): #returns approximate count within 1-eps with prob of 3/4\n",
    "    G = G_p.copy()\n",
    "    n = G.number_of_nodes() \n",
    "    m = G.number_of_edges()\n",
    "    D = max(dict(G.degree()).values())\n",
    "    T = math.ceil(((k)/(k-(2*D)))*n*math.log((4*n*m)/(eps)))\n",
    "    s = math.ceil((37*m)/(eps*eps))\n",
    "    N_colorings = 1.000000000000000000\n",
    "\n",
    "\n",
    "    while(nx.is_empty(G)==False):\n",
    "        \n",
    "        u,v = random.sample(list(G.edges()),1)[0]\n",
    "        G.remove_edge(u,v)\n",
    "        coloring = nx.greedy_color(G)\n",
    "        Z = 0.000000\n",
    "\n",
    "        for i in range(s):\n",
    "            trial = random_sample_colouring(G, k, T, coloring)\n",
    "            if trial[u]!=trial[v]:\n",
    "                Z = Z+1\n",
    "        \n",
    "        N_colorings = N_colorings*(Z/s)\n",
    "    \n",
    "\n",
    "    N_colorings = (k**n)*(N_colorings)\n",
    "\n",
    "    return round(N_colorings)\n",
    "\n",
    "\n",
    "        \n",
    "\n",
    "\n",
    " "
   ]
  },
  {
   "cell_type": "code",
   "execution_count": 118,
   "metadata": {},
   "outputs": [],
   "source": [
    "G = nx.erdos_renyi_graph(10,0.5)\n"
   ]
  },
  {
   "cell_type": "code",
   "execution_count": 119,
   "metadata": {},
   "outputs": [
    {
     "name": "stdout",
     "output_type": "stream",
     "text": [
      "269863505384817\n"
     ]
    }
   ],
   "source": [
    "print(approx_count_coloring(G, 30, 0.5))"
   ]
  },
  {
   "cell_type": "code",
   "execution_count": 120,
   "metadata": {},
   "outputs": [
    {
     "ename": "KeyboardInterrupt",
     "evalue": "",
     "output_type": "error",
     "traceback": [
      "\u001b[1;31m---------------------------------------------------------------------------\u001b[0m",
      "\u001b[1;31mKeyboardInterrupt\u001b[0m                         Traceback (most recent call last)",
      "Cell \u001b[1;32mIn[120], line 1\u001b[0m\n\u001b[1;32m----> 1\u001b[0m \u001b[38;5;28mprint\u001b[39m(\u001b[43mnx\u001b[49m\u001b[38;5;241;43m.\u001b[39;49m\u001b[43mchromatic_polynomial\u001b[49m\u001b[43m(\u001b[49m\u001b[43mG\u001b[49m\u001b[43m)\u001b[49m)\n",
      "File \u001b[1;32m<class 'networkx.utils.decorators.argmap'> compilation 10:4\u001b[0m, in \u001b[0;36margmap_chromatic_polynomial_6\u001b[1;34m(G, backend, **backend_kwargs)\u001b[0m\n\u001b[0;32m      2\u001b[0m \u001b[38;5;28;01mimport\u001b[39;00m \u001b[38;5;21;01mcollections\u001b[39;00m\n\u001b[0;32m      3\u001b[0m \u001b[38;5;28;01mimport\u001b[39;00m \u001b[38;5;21;01mgzip\u001b[39;00m\n\u001b[1;32m----> 4\u001b[0m \u001b[38;5;28;01mimport\u001b[39;00m \u001b[38;5;21;01minspect\u001b[39;00m\n\u001b[0;32m      5\u001b[0m \u001b[38;5;28;01mimport\u001b[39;00m \u001b[38;5;21;01mitertools\u001b[39;00m\n\u001b[0;32m      6\u001b[0m \u001b[38;5;28;01mimport\u001b[39;00m \u001b[38;5;21;01mre\u001b[39;00m\n",
      "File \u001b[1;32m~\\AppData\\Roaming\\Python\\Python311\\site-packages\\networkx\\utils\\backends.py:633\u001b[0m, in \u001b[0;36m_dispatchable.__call__\u001b[1;34m(self, backend, *args, **kwargs)\u001b[0m\n\u001b[0;32m    628\u001b[0m \u001b[38;5;250m\u001b[39m\u001b[38;5;124;03m\"\"\"Returns the result of the original function, or the backend function if\u001b[39;00m\n\u001b[0;32m    629\u001b[0m \u001b[38;5;124;03mthe backend is specified and that backend implements `func`.\"\"\"\u001b[39;00m\n\u001b[0;32m    631\u001b[0m \u001b[38;5;28;01mif\u001b[39;00m \u001b[38;5;129;01mnot\u001b[39;00m backends:\n\u001b[0;32m    632\u001b[0m     \u001b[38;5;66;03m# Fast path if no backends are installed\u001b[39;00m\n\u001b[1;32m--> 633\u001b[0m     \u001b[38;5;28;01mreturn\u001b[39;00m \u001b[38;5;28;43mself\u001b[39;49m\u001b[38;5;241;43m.\u001b[39;49m\u001b[43morig_func\u001b[49m\u001b[43m(\u001b[49m\u001b[38;5;241;43m*\u001b[39;49m\u001b[43margs\u001b[49m\u001b[43m,\u001b[49m\u001b[43m \u001b[49m\u001b[38;5;241;43m*\u001b[39;49m\u001b[38;5;241;43m*\u001b[39;49m\u001b[43mkwargs\u001b[49m\u001b[43m)\u001b[49m\n\u001b[0;32m    635\u001b[0m \u001b[38;5;66;03m# Use `backend_name` in this function instead of `backend`\u001b[39;00m\n\u001b[0;32m    636\u001b[0m backend_name \u001b[38;5;241m=\u001b[39m backend\n",
      "File \u001b[1;32m~\\AppData\\Roaming\\Python\\Python311\\site-packages\\networkx\\algorithms\\polynomials.py:299\u001b[0m, in \u001b[0;36mchromatic_polynomial\u001b[1;34m(G)\u001b[0m\n\u001b[0;32m    297\u001b[0m \u001b[38;5;28;01melse\u001b[39;00m:\n\u001b[0;32m    298\u001b[0m     e \u001b[38;5;241m=\u001b[39m edges[\u001b[38;5;241m0\u001b[39m]\n\u001b[1;32m--> 299\u001b[0m     C \u001b[38;5;241m=\u001b[39m \u001b[43mnx\u001b[49m\u001b[38;5;241;43m.\u001b[39;49m\u001b[43mcontracted_edge\u001b[49m\u001b[43m(\u001b[49m\u001b[43mG\u001b[49m\u001b[43m,\u001b[49m\u001b[43m \u001b[49m\u001b[43me\u001b[49m\u001b[43m,\u001b[49m\u001b[43m \u001b[49m\u001b[43mself_loops\u001b[49m\u001b[38;5;241;43m=\u001b[39;49m\u001b[38;5;28;43;01mTrue\u001b[39;49;00m\u001b[43m)\u001b[49m\n\u001b[0;32m    300\u001b[0m     C\u001b[38;5;241m.\u001b[39mgraph[\u001b[38;5;124m\"\u001b[39m\u001b[38;5;124mcontraction_idx\u001b[39m\u001b[38;5;124m\"\u001b[39m] \u001b[38;5;241m=\u001b[39m G\u001b[38;5;241m.\u001b[39mgraph[\u001b[38;5;124m\"\u001b[39m\u001b[38;5;124mcontraction_idx\u001b[39m\u001b[38;5;124m\"\u001b[39m] \u001b[38;5;241m+\u001b[39m \u001b[38;5;241m1\u001b[39m\n\u001b[0;32m    301\u001b[0m     C\u001b[38;5;241m.\u001b[39mremove_edge(e[\u001b[38;5;241m0\u001b[39m], e[\u001b[38;5;241m0\u001b[39m])\n",
      "File \u001b[1;32m<class 'networkx.utils.decorators.argmap'> compilation 26:3\u001b[0m, in \u001b[0;36margmap_contracted_edge_23\u001b[1;34m(G, edge, self_loops, copy, backend, **backend_kwargs)\u001b[0m\n\u001b[0;32m      1\u001b[0m \u001b[38;5;28;01mimport\u001b[39;00m \u001b[38;5;21;01mbz2\u001b[39;00m\n\u001b[0;32m      2\u001b[0m \u001b[38;5;28;01mimport\u001b[39;00m \u001b[38;5;21;01mcollections\u001b[39;00m\n\u001b[1;32m----> 3\u001b[0m \u001b[38;5;28;01mimport\u001b[39;00m \u001b[38;5;21;01mgzip\u001b[39;00m\n\u001b[0;32m      4\u001b[0m \u001b[38;5;28;01mimport\u001b[39;00m \u001b[38;5;21;01minspect\u001b[39;00m\n\u001b[0;32m      5\u001b[0m \u001b[38;5;28;01mimport\u001b[39;00m \u001b[38;5;21;01mitertools\u001b[39;00m\n",
      "File \u001b[1;32m~\\AppData\\Roaming\\Python\\Python311\\site-packages\\networkx\\utils\\backends.py:633\u001b[0m, in \u001b[0;36m_dispatchable.__call__\u001b[1;34m(self, backend, *args, **kwargs)\u001b[0m\n\u001b[0;32m    628\u001b[0m \u001b[38;5;250m\u001b[39m\u001b[38;5;124;03m\"\"\"Returns the result of the original function, or the backend function if\u001b[39;00m\n\u001b[0;32m    629\u001b[0m \u001b[38;5;124;03mthe backend is specified and that backend implements `func`.\"\"\"\u001b[39;00m\n\u001b[0;32m    631\u001b[0m \u001b[38;5;28;01mif\u001b[39;00m \u001b[38;5;129;01mnot\u001b[39;00m backends:\n\u001b[0;32m    632\u001b[0m     \u001b[38;5;66;03m# Fast path if no backends are installed\u001b[39;00m\n\u001b[1;32m--> 633\u001b[0m     \u001b[38;5;28;01mreturn\u001b[39;00m \u001b[38;5;28;43mself\u001b[39;49m\u001b[38;5;241;43m.\u001b[39;49m\u001b[43morig_func\u001b[49m\u001b[43m(\u001b[49m\u001b[38;5;241;43m*\u001b[39;49m\u001b[43margs\u001b[49m\u001b[43m,\u001b[49m\u001b[43m \u001b[49m\u001b[38;5;241;43m*\u001b[39;49m\u001b[38;5;241;43m*\u001b[39;49m\u001b[43mkwargs\u001b[49m\u001b[43m)\u001b[49m\n\u001b[0;32m    635\u001b[0m \u001b[38;5;66;03m# Use `backend_name` in this function instead of `backend`\u001b[39;00m\n\u001b[0;32m    636\u001b[0m backend_name \u001b[38;5;241m=\u001b[39m backend\n",
      "File \u001b[1;32m~\\AppData\\Roaming\\Python\\Python311\\site-packages\\networkx\\algorithms\\minors\\contraction.py:633\u001b[0m, in \u001b[0;36mcontracted_edge\u001b[1;34m(G, edge, self_loops, copy)\u001b[0m\n\u001b[0;32m    631\u001b[0m \u001b[38;5;28;01mif\u001b[39;00m \u001b[38;5;129;01mnot\u001b[39;00m G\u001b[38;5;241m.\u001b[39mhas_edge(u, v):\n\u001b[0;32m    632\u001b[0m     \u001b[38;5;28;01mraise\u001b[39;00m \u001b[38;5;167;01mValueError\u001b[39;00m(\u001b[38;5;124mf\u001b[39m\u001b[38;5;124m\"\u001b[39m\u001b[38;5;124mEdge \u001b[39m\u001b[38;5;132;01m{\u001b[39;00medge\u001b[38;5;132;01m}\u001b[39;00m\u001b[38;5;124m does not exist in graph G; cannot contract it\u001b[39m\u001b[38;5;124m\"\u001b[39m)\n\u001b[1;32m--> 633\u001b[0m \u001b[38;5;28;01mreturn\u001b[39;00m \u001b[43mcontracted_nodes\u001b[49m\u001b[43m(\u001b[49m\u001b[43mG\u001b[49m\u001b[43m,\u001b[49m\u001b[43m \u001b[49m\u001b[43mu\u001b[49m\u001b[43m,\u001b[49m\u001b[43m \u001b[49m\u001b[43mv\u001b[49m\u001b[43m,\u001b[49m\u001b[43m \u001b[49m\u001b[43mself_loops\u001b[49m\u001b[38;5;241;43m=\u001b[39;49m\u001b[43mself_loops\u001b[49m\u001b[43m,\u001b[49m\u001b[43m \u001b[49m\u001b[43mcopy\u001b[49m\u001b[38;5;241;43m=\u001b[39;49m\u001b[43mcopy\u001b[49m\u001b[43m)\u001b[49m\n",
      "File \u001b[1;32m<class 'networkx.utils.decorators.argmap'> compilation 30:3\u001b[0m, in \u001b[0;36margmap_contracted_nodes_27\u001b[1;34m(G, u, v, self_loops, copy, backend, **backend_kwargs)\u001b[0m\n\u001b[0;32m      1\u001b[0m \u001b[38;5;28;01mimport\u001b[39;00m \u001b[38;5;21;01mbz2\u001b[39;00m\n\u001b[0;32m      2\u001b[0m \u001b[38;5;28;01mimport\u001b[39;00m \u001b[38;5;21;01mcollections\u001b[39;00m\n\u001b[1;32m----> 3\u001b[0m \u001b[38;5;28;01mimport\u001b[39;00m \u001b[38;5;21;01mgzip\u001b[39;00m\n\u001b[0;32m      4\u001b[0m \u001b[38;5;28;01mimport\u001b[39;00m \u001b[38;5;21;01minspect\u001b[39;00m\n\u001b[0;32m      5\u001b[0m \u001b[38;5;28;01mimport\u001b[39;00m \u001b[38;5;21;01mitertools\u001b[39;00m\n",
      "File \u001b[1;32m~\\AppData\\Roaming\\Python\\Python311\\site-packages\\networkx\\utils\\backends.py:633\u001b[0m, in \u001b[0;36m_dispatchable.__call__\u001b[1;34m(self, backend, *args, **kwargs)\u001b[0m\n\u001b[0;32m    628\u001b[0m \u001b[38;5;250m\u001b[39m\u001b[38;5;124;03m\"\"\"Returns the result of the original function, or the backend function if\u001b[39;00m\n\u001b[0;32m    629\u001b[0m \u001b[38;5;124;03mthe backend is specified and that backend implements `func`.\"\"\"\u001b[39;00m\n\u001b[0;32m    631\u001b[0m \u001b[38;5;28;01mif\u001b[39;00m \u001b[38;5;129;01mnot\u001b[39;00m backends:\n\u001b[0;32m    632\u001b[0m     \u001b[38;5;66;03m# Fast path if no backends are installed\u001b[39;00m\n\u001b[1;32m--> 633\u001b[0m     \u001b[38;5;28;01mreturn\u001b[39;00m \u001b[38;5;28;43mself\u001b[39;49m\u001b[38;5;241;43m.\u001b[39;49m\u001b[43morig_func\u001b[49m\u001b[43m(\u001b[49m\u001b[38;5;241;43m*\u001b[39;49m\u001b[43margs\u001b[49m\u001b[43m,\u001b[49m\u001b[43m \u001b[49m\u001b[38;5;241;43m*\u001b[39;49m\u001b[38;5;241;43m*\u001b[39;49m\u001b[43mkwargs\u001b[49m\u001b[43m)\u001b[49m\n\u001b[0;32m    635\u001b[0m \u001b[38;5;66;03m# Use `backend_name` in this function instead of `backend`\u001b[39;00m\n\u001b[0;32m    636\u001b[0m backend_name \u001b[38;5;241m=\u001b[39m backend\n",
      "File \u001b[1;32m~\\AppData\\Roaming\\Python\\Python311\\site-packages\\networkx\\algorithms\\minors\\contraction.py:547\u001b[0m, in \u001b[0;36mcontracted_nodes\u001b[1;34m(G, u, v, self_loops, copy)\u001b[0m\n\u001b[0;32m    544\u001b[0m     \u001b[38;5;28;01mcontinue\u001b[39;00m\n\u001b[0;32m    546\u001b[0m \u001b[38;5;28;01mif\u001b[39;00m \u001b[38;5;129;01mnot\u001b[39;00m H\u001b[38;5;241m.\u001b[39mhas_edge(w, x) \u001b[38;5;129;01mor\u001b[39;00m G\u001b[38;5;241m.\u001b[39mis_multigraph():\n\u001b[1;32m--> 547\u001b[0m     \u001b[43mH\u001b[49m\u001b[38;5;241;43m.\u001b[39;49m\u001b[43madd_edge\u001b[49m\u001b[43m(\u001b[49m\u001b[43mw\u001b[49m\u001b[43m,\u001b[49m\u001b[43m \u001b[49m\u001b[43mx\u001b[49m\u001b[43m,\u001b[49m\u001b[43m \u001b[49m\u001b[38;5;241;43m*\u001b[39;49m\u001b[38;5;241;43m*\u001b[39;49m\u001b[43md\u001b[49m\u001b[43m)\u001b[49m\n\u001b[0;32m    548\u001b[0m \u001b[38;5;28;01melse\u001b[39;00m:\n\u001b[0;32m    549\u001b[0m     \u001b[38;5;28;01mif\u001b[39;00m \u001b[38;5;124m\"\u001b[39m\u001b[38;5;124mcontraction\u001b[39m\u001b[38;5;124m\"\u001b[39m \u001b[38;5;129;01min\u001b[39;00m H\u001b[38;5;241m.\u001b[39medges[(w, x)]:\n",
      "File \u001b[1;32m~\\AppData\\Roaming\\Python\\Python311\\site-packages\\networkx\\classes\\multigraph.py:512\u001b[0m, in \u001b[0;36mMultiGraph.add_edge\u001b[1;34m(self, u_for_edge, v_for_edge, key, **attr)\u001b[0m\n\u001b[0;32m    510\u001b[0m \u001b[38;5;28;01mif\u001b[39;00m v \u001b[38;5;129;01min\u001b[39;00m \u001b[38;5;28mself\u001b[39m\u001b[38;5;241m.\u001b[39m_adj[u]:\n\u001b[0;32m    511\u001b[0m     keydict \u001b[38;5;241m=\u001b[39m \u001b[38;5;28mself\u001b[39m\u001b[38;5;241m.\u001b[39m_adj[u][v]\n\u001b[1;32m--> 512\u001b[0m     datadict \u001b[38;5;241m=\u001b[39m keydict\u001b[38;5;241m.\u001b[39mget(key, \u001b[38;5;28mself\u001b[39m\u001b[38;5;241m.\u001b[39medge_attr_dict_factory())\n\u001b[0;32m    513\u001b[0m     datadict\u001b[38;5;241m.\u001b[39mupdate(attr)\n\u001b[0;32m    514\u001b[0m     keydict[key] \u001b[38;5;241m=\u001b[39m datadict\n",
      "\u001b[1;31mKeyboardInterrupt\u001b[0m: "
     ]
    }
   ],
   "source": [
    "print(nx.chromatic_polynomial(G))"
   ]
  },
  {
   "cell_type": "code",
   "execution_count": 106,
   "metadata": {},
   "outputs": [
    {
     "name": "stdout",
     "output_type": "stream",
     "text": [
      "65818439808\n"
     ]
    }
   ],
   "source": [
    "x = 24\n",
    "print(x**8 - 12*x**7 + 64*x**6 - 197*x**5 + 376*x**4 - 440*x**3 + 288*x**2 - 80*x)"
   ]
  }
 ],
 "metadata": {
  "kernelspec": {
   "display_name": "Python 3",
   "language": "python",
   "name": "python3"
  },
  "language_info": {
   "codemirror_mode": {
    "name": "ipython",
    "version": 3
   },
   "file_extension": ".py",
   "mimetype": "text/x-python",
   "name": "python",
   "nbconvert_exporter": "python",
   "pygments_lexer": "ipython3",
   "version": "3.11.5"
  }
 },
 "nbformat": 4,
 "nbformat_minor": 2
}
